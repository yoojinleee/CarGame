{
  "cells": [
    {
      "cell_type": "markdown",
      "metadata": {
        "colab_type": "text",
        "id": "view-in-github"
      },
      "source": [
        "<a href=\"https://colab.research.google.com/github/yoojinleee/CarGame/blob/main/CarGame.ipynb\" target=\"_parent\"><img src=\"https://colab.research.google.com/assets/colab-badge.svg\" alt=\"Open In Colab\"/></a>"
      ]
    },
    {
      "cell_type": "code",
      "execution_count": 4,
      "metadata": {},
      "outputs": [
        {
          "name": "stdout",
          "output_type": "stream",
          "text": [
            "Requirement already satisfied: pygame in ./.venv/lib/python3.9/site-packages (2.6.1)\n",
            "Note: you may need to restart the kernel to use updated packages.\n"
          ]
        }
      ],
      "source": [
        "pip install pygame"
      ]
    },
    {
      "cell_type": "code",
      "execution_count": 8,
      "metadata": {
        "colab": {
          "base_uri": "https://localhost:8080/"
        },
        "id": "05PaTzDEVF6u",
        "outputId": "5ce9993b-518a-4ce4-8dcb-2fce462aebfe"
      },
      "outputs": [],
      "source": [
        "import pygame\n",
        "import random\n",
        "import sys\n",
        "import time\n",
        "\n",
        "# Initializing the game\n",
        "pygame.init()\n",
        "\n",
        "# Making the settings for the screen display\n",
        "WIDTH, HEIGHT = 800, 600\n",
        "screen = pygame.display.set_mode((WIDTH, HEIGHT))\n",
        "pygame.display.set_caption(\"Car Racing Game\")\n",
        "\n",
        "# Frame rate for moving car\n",
        "clock = pygame.time.Clock()\n",
        "font = pygame.font.SysFont(None, 48)\n",
        "\n",
        "#Car\n",
        "car_width, car_height = 50, 100\n",
        "car = pygame.Rect(WIDTH//2, HEIGHT - 120, car_width, car_height)\n",
        "\n",
        "# Making the car move\n",
        "car_speed = 5\n",
        "\n",
        "#Obstacle\n",
        "obstacle_width, obstacle_height = 50, 100\n",
        "obstacles = []\n",
        "obstacle_speed = 5\n",
        "\n",
        "#Game Activity\n",
        "running = True\n",
        "game_active = True\n",
        "last_math_time = time.time ()\n",
        "math_interval = 30\n",
        "\n",
        "#Colors\n",
        "WHITE = (255, 255, 255)\n",
        "Black = (0,0,0)\n",
        "Red = (255, 0, 0)\n",
        "Blue = (0, 0, 255)\n",
        "\n",
        "def draw_car():\n",
        "  pygame.draw.rect(screen, Blue, car)\n",
        "\n",
        "def draw_obstacles():\n",
        "  for obs in obstacles:\n",
        "    pygame.draw.rect(screen, Red, obs)\n",
        "\n",
        "def spawn_obstacle():\n",
        "  x = random.randint(0, WIDTH - obstacle_width)\n",
        "  new_obstacle = pygame.Rect(x, -obstacle_height, obstacle_width, obstacle_height)\n",
        "  obstacles.append(new_obstacle)\n",
        "\n",
        "def move_obstacles():\n",
        "  for obs in obstacles:\n",
        "    obs.y += obstacle_speed\n",
        "  #Deleting obstacles off the screen\n",
        "  obstacles[:] = [obs for obs in obstacles if obs.y < HEIGHT]\n",
        "\n",
        "def check_collision():\n",
        "  for obs in obstacles:\n",
        "    if car.colliderect(obs):\n",
        "      return True\n",
        "  return False\n",
        "\n",
        "def show_message(message):\n",
        "  text = font.render(message, True, Black)\n",
        "  rect = text.get_rect(center=(WIDTH//2, HEIGHT//2))\n",
        "  screen.blit(text, rect)\n",
        "  pygame.display.flip()\n",
        "  pygame.time.delay(2000)\n",
        "\n",
        "def start_math_quiz():\n",
        "  global num1, num2, answer, user_input, game_state\n",
        "  num1 = random.randint(1,10)\n",
        "  num2 = random.randint(1,10)\n",
        "  answer = num1 * num2\n",
        "  user_input = \"\"\n",
        "  game_state = \"math_quiz\""
      ]
    },
    {
      "cell_type": "code",
      "execution_count": null,
      "metadata": {
        "id": "netBE8FR2XNV"
      },
      "outputs": [],
      "source": [
        "# Pausing the game every 30 seconds to ask a math question\n",
        "# Generate two random numbers between 1 and 10\n",
        "\n",
        "def ask_math_question():\n",
        "    num1 = random.randint(1, 10)\n",
        "    num2 = random.randint(1, 10)\n",
        "    answer = num1 * num2 # Calculate the correct answer\n",
        "    user_input = \"\"\n",
        "    asking = True\n",
        "\n",
        "\n",
        "# Begin the math question loop\n",
        "    while asking:\n",
        "        screen.fill(WHITE) # Clearing the screen so we can ask the math question\n",
        "        question = font.render(f\"What is {num1} x {num2}?\", True, Black)\n",
        "        input_box = font.render(user_input, True, Red)\n",
        "        screen.blit(question, (WIDTH // 2 - question.get_width() // 2, HEIGHT // 2 - 50))\n",
        "        screen.blit(input_box, (WIDTH // 2 - input_box.get_width() // 2, HEIGHT // 2 + 10))\n",
        "        pygame.display.flip()\n",
        "\n",
        "# Handling different events that could potentially happen\n",
        "        for event in pygame.event.get():\n",
        "            if event.type == pygame.QUIT:\n",
        "                pygame.quit()\n",
        "                sys.exit()\n",
        "            elif event.type == pygame.KEYDOWN:\n",
        "                if event.key == pygame.K_BACKSPACE:\n",
        "                    user_input = user_input[:-1]\n",
        "                elif event.key == pygame.K_RETURN:\n",
        "                    if user_input.isdigit():\n",
        "                        if int(user_input) == answer:\n",
        "                            asking = False  # Resume the game\n",
        "                        else:\n",
        "                            show_message(\"Wrong! You died.\")\n",
        "                            return False  # Game is over\n",
        "                else:\n",
        "                    user_input += event.unicode\n",
        "    return True  # Continue the game\n",
        "\n",
        "game_state = \"playing\"\n",
        "user_input = \"\"\n",
        "num1, num2 = 0,0\n",
        "answer = 0"
      ]
    },
    {
      "cell_type": "code",
      "execution_count": null,
      "metadata": {
        "colab": {
          "base_uri": "https://localhost:8080/",
          "height": 216
        },
        "id": "6II_dvKRai2R",
        "outputId": "d9ec19e4-4efe-4377-ae1e-e984428ba311"
      },
      "outputs": [
        {
          "ename": "SystemExit",
          "evalue": "",
          "output_type": "error",
          "traceback": [
            "An exception has occurred, use %tb to see the full traceback.\n",
            "\u001b[0;31mSystemExit\u001b[0m\n"
          ]
        },
        {
          "name": "stderr",
          "output_type": "stream",
          "text": [
            "/Users/macintosh/Documents/GitHub/CarGame/CarGame/.venv/lib/python3.9/site-packages/IPython/core/interactiveshell.py:3558: UserWarning: To exit: use 'exit', 'quit', or Ctrl-D.\n",
            "  warn(\"To exit: use 'exit', 'quit', or Ctrl-D.\", stacklevel=1)\n"
          ]
        },
        {
          "ename": "",
          "evalue": "",
          "output_type": "error",
          "traceback": [
            "\u001b[1;31mThe Kernel crashed while executing code in the current cell or a previous cell. \n",
            "\u001b[1;31mPlease review the code in the cell(s) to identify a possible cause of the failure. \n",
            "\u001b[1;31mClick <a href='https://aka.ms/vscodeJupyterKernelCrash'>here</a> for more info. \n",
            "\u001b[1;31mView Jupyter <a href='command:jupyter.viewOutput'>log</a> for further details."
          ]
        }
      ],
      "source": [
        "while running:\n",
        "  clock.tick(60)\n",
        "  screen.fill(WHITE)\n",
        "\n",
        "  for event in pygame.event.get():\n",
        "    if event.type == pygame.QUIT:\n",
        "      running = False\n",
        "\n",
        "    if game_state == \"math_quiz\" and event.type == pygame.KEYDOWN:\n",
        "      if event.key == pygame.K_BACKSPACE:\n",
        "        user_input = user_input[:-1]\n",
        "      elif event.key == pygame.K_RETURN:\n",
        "        if user_input.isdigit():\n",
        "          if int(user_input) == answer:\n",
        "            game_state = \"playing\"\n",
        "            last_math_time = time.time()\n",
        "          else:\n",
        "            show_message(\"Wrong! You died.\")\n",
        "            game_active = False\n",
        "            game_state = \"game_over\"\n",
        "      else:\n",
        "        user_input += event.unicode\n",
        "\n",
        "    if game_state == \"math_quiz\":\n",
        "      question = font.render(f\"What is {num1} x {num2}?\", True, Black)\n",
        "      input_box = font.render(user_input, True, Red)\n",
        "      screen.blit(question, (WIDTH//2 - question.get_width()//2, HEIGHT//2-50))\n",
        "      screen.blit(input_box, (WIDTH//2 - input_box.get_width()//2, HEIGHT//2+10))\n",
        "\n",
        "    elif game_state == \"playing\" and game_active:\n",
        "      keys = pygame.key.get_pressed()\n",
        "      if keys[pygame.K_LEFT] and car.left>0:\n",
        "        car.x -= car_speed\n",
        "      if keys[pygame.K_RIGHT] and car.right<WIDTH:\n",
        "        car.x += car_speed\n",
        "\n",
        "      if random.randint(1,20)==1:\n",
        "        spawn_obstacle()\n",
        "\n",
        "      move_obstacles()\n",
        "      draw_car()\n",
        "      draw_obstacles()\n",
        "\n",
        "      if check_collision():\n",
        "        show_message(\"You crashed!\")\n",
        "        game_active = False\n",
        "        game_state = \"game_over\"\n",
        "\n",
        "    #Time-based math challenge\n",
        "      if time.time() - last_math_time > math_interval:\n",
        "        start_math_quiz()\n",
        "\n",
        "    elif game_state == \"game_over\":\n",
        "      show_message(\"Press R to restart\")\n",
        "      keys = pygame.key.get_pressed()\n",
        "      if keys[pygame.K_r]:\n",
        "          car.x = WIDTH//2\n",
        "          car.y = HEIGHT - 120\n",
        "          obstacles.clear()\n",
        "          last_math_time = time.time()\n",
        "          game_active = True\n",
        "          game_state = \"playing\"\n",
        "\n",
        "  pygame.display.flip()\n",
        "\n",
        "pygame.quit()\n",
        "sys.exit()"
      ]
    }
  ],
  "metadata": {
    "colab": {
      "include_colab_link": true,
      "provenance": []
    },
    "kernelspec": {
      "display_name": ".venv",
      "language": "python",
      "name": "python3"
    },
    "language_info": {
      "codemirror_mode": {
        "name": "ipython",
        "version": 3
      },
      "file_extension": ".py",
      "mimetype": "text/x-python",
      "name": "python",
      "nbconvert_exporter": "python",
      "pygments_lexer": "ipython3",
      "version": "3.9.6"
    }
  },
  "nbformat": 4,
  "nbformat_minor": 0
}
